{
  "metadata": {
    "kernelspec": {
      "name": "python",
      "display_name": "Python (Pyodide)",
      "language": "python"
    },
    "language_info": {
      "codemirror_mode": {
        "name": "python",
        "version": 3
      },
      "file_extension": ".py",
      "mimetype": "text/x-python",
      "name": "python",
      "nbconvert_exporter": "python",
      "pygments_lexer": "ipython3",
      "version": "3.8"
    }
  },
  "nbformat_minor": 5,
  "nbformat": 4,
  "cells": [
    {
      "id": "4ad98e0e-6b8b-4905-ab47-44de17344148",
      "cell_type": "code",
      "source": "#Task: Usa una lambda con filter() per ottenere solo i numeri pari da una lista.\nlista = [2,5,6,32,42,5]\npari = list(filter(lambda x: x % 2 == 0, lista))\npari",
      "metadata": {
        "trusted": true
      },
      "outputs": [
        {
          "execution_count": 6,
          "output_type": "execute_result",
          "data": {
            "text/plain": "[2, 6, 32, 42]"
          },
          "metadata": {}
        }
      ],
      "execution_count": 6
    },
    {
      "id": "e49eb2b6-244d-4049-8c69-07b3ccc4cbcb",
      "cell_type": "code",
      "source": "#Task: Usa una lambda con map() per moltiplicare ogni numero di una lista per 10.\nlista = [1,4,6]\nmulti = list(map(lambda x: x * 10, lista))\nmulti",
      "metadata": {
        "trusted": true
      },
      "outputs": [
        {
          "execution_count": 8,
          "output_type": "execute_result",
          "data": {
            "text/plain": "[10, 40, 60]"
          },
          "metadata": {}
        }
      ],
      "execution_count": 8
    },
    {
      "id": "ad494f87-e7ef-47bf-bfb3-f33345c04d47",
      "cell_type": "code",
      "source": "#Task: Ordina [(1, 3), (2, 1), (4, 2)] in base al secondo elemento.\n\ntuples = [(1, 3), (2, 1), (4, 2)]\nordered_list = sorted(tuples, key=lambda x: x[1])\nordered_list",
      "metadata": {
        "trusted": true
      },
      "outputs": [
        {
          "execution_count": 10,
          "output_type": "execute_result",
          "data": {
            "text/plain": "[(2, 1), (4, 2), (1, 3)]"
          },
          "metadata": {}
        }
      ],
      "execution_count": 10
    },
    {
      "id": "0acdde0d-742b-4d20-8aa7-91daab6e8c84",
      "cell_type": "code",
      "source": "#Task: Usa filter() + lambda per eliminare le stringhe vuote.\n\nlista = ['prova', '', 'hola', '']\nno_empty = list(filter(lambda x: len(x) > 0, lista))\nno_empty",
      "metadata": {
        "trusted": true
      },
      "outputs": [
        {
          "execution_count": 15,
          "output_type": "execute_result",
          "data": {
            "text/plain": "['prova', 'hola']"
          },
          "metadata": {}
        }
      ],
      "execution_count": 15
    },
    {
      "id": "7b243bd2-ca05-49c8-ab41-2c60ac27165b",
      "cell_type": "code",
      "source": "# Filtra il dizionario in base ad una condizione\ndict = {'Luca': 30, 'Gio': 31, 'Marco': 32}\nfiltered_dict = {y: x for y, x in dict.items() if x > 30}\nfiltered_dict",
      "metadata": {
        "trusted": true
      },
      "outputs": [
        {
          "execution_count": 29,
          "output_type": "execute_result",
          "data": {
            "text/plain": "{'Gio': 31, 'Marco': 32}"
          },
          "metadata": {}
        }
      ],
      "execution_count": 29
    },
    {
      "id": "5ada304c-954f-4ba3-b35c-9f4d1f05855a",
      "cell_type": "code",
      "source": "#Task: Ordina un dizionario {a: 3, b: 1, c: 2} in base al valore, crescente.\n\nd = {'a': 3, 'b': 1, 'c': 2}\nord_d = sorted(d.items(), key= lambda x: x[1])\nord_d",
      "metadata": {
        "trusted": true
      },
      "outputs": [
        {
          "execution_count": 37,
          "output_type": "execute_result",
          "data": {
            "text/plain": "[('b', 1), ('c', 2), ('a', 3)]"
          },
          "metadata": {}
        }
      ],
      "execution_count": 37
    },
    {
      "id": "a9181d77-f015-4a60-a9e6-b15c46d9a9e9",
      "cell_type": "code",
      "source": "#Task: Moltiplica per 10 tutti i valori del dizionario {a: 1, b: 2, c: 3}.\nd = {'a': 3, 'b': 1, 'c': 2}\nmult_d = {k: v * 10 for k,v in d.items()}\nmult_d",
      "metadata": {
        "trusted": true
      },
      "outputs": [
        {
          "execution_count": 43,
          "output_type": "execute_result",
          "data": {
            "text/plain": "{'a': 30, 'b': 10, 'c': 20}"
          },
          "metadata": {}
        }
      ],
      "execution_count": 43
    },
    {
      "id": "5baef206-5599-4652-a6bc-bdbd8ddc62b6",
      "cell_type": "code",
      "source": "# Apply su una colonna di un DF\nimport pandas as pd\ndf = pd.DataFrame({'valori':[10,20,30], 'Nomi':['Luca', 'Paola', 'Francesco']})\napplied_df = df['valori'].apply(lambda x: x * 5)\napplied_df",
      "metadata": {
        "trusted": true
      },
      "outputs": [
        {
          "execution_count": 53,
          "output_type": "execute_result",
          "data": {
            "text/plain": "0     50\n1    100\n2    150\nName: valori, dtype: int64"
          },
          "metadata": {}
        }
      ],
      "execution_count": 53
    },
    {
      "id": "2716b887-ed20-4005-a750-3ffe7bdd46bc",
      "cell_type": "code",
      "source": "# Apply su tutte le righe\ndf = pd.DataFrame({'valori':[10,20,30], 'Nomi':['Luca', 'Paola', 'Francesco'], 'Cognome':['A','B','C']})\ndf['nome_completo'] = df.apply(lambda row: f\"{row['Nomi']} {row['Cognome']}\", axis=1)\ndf",
      "metadata": {
        "trusted": true
      },
      "outputs": [
        {
          "execution_count": 55,
          "output_type": "execute_result",
          "data": {
            "text/plain": "   valori       Nomi Cognome nome_completo\n0      10       Luca       A        Luca A\n1      20      Paola       B       Paola B\n2      30  Francesco       C   Francesco C",
            "text/html": "<div>\n<style scoped>\n    .dataframe tbody tr th:only-of-type {\n        vertical-align: middle;\n    }\n\n    .dataframe tbody tr th {\n        vertical-align: top;\n    }\n\n    .dataframe thead th {\n        text-align: right;\n    }\n</style>\n<table border=\"1\" class=\"dataframe\">\n  <thead>\n    <tr style=\"text-align: right;\">\n      <th></th>\n      <th>valori</th>\n      <th>Nomi</th>\n      <th>Cognome</th>\n      <th>nome_completo</th>\n    </tr>\n  </thead>\n  <tbody>\n    <tr>\n      <th>0</th>\n      <td>10</td>\n      <td>Luca</td>\n      <td>A</td>\n      <td>Luca A</td>\n    </tr>\n    <tr>\n      <th>1</th>\n      <td>20</td>\n      <td>Paola</td>\n      <td>B</td>\n      <td>Paola B</td>\n    </tr>\n    <tr>\n      <th>2</th>\n      <td>30</td>\n      <td>Francesco</td>\n      <td>C</td>\n      <td>Francesco C</td>\n    </tr>\n  </tbody>\n</table>\n</div>"
          },
          "metadata": {}
        }
      ],
      "execution_count": 55
    },
    {
      "id": "364cba34-9ff9-4c01-b5ed-56a70622c75b",
      "cell_type": "code",
      "source": "#Task: Crea una colonna età_categoria che assegni 'adulto' se età >= 18, altrimenti 'minorenne'.\ndf = pd.DataFrame({'Nomi':['Luca', 'Paola', 'Francesco'], 'eta':[10,20,30]})\ndf['eta_categoria'] = df['eta'].apply(lambda x: 'Minorenne' if x < 18 else 'Maggiorenne')\ndf",
      "metadata": {
        "trusted": true
      },
      "outputs": [
        {
          "execution_count": 57,
          "output_type": "execute_result",
          "data": {
            "text/plain": "        Nomi  eta eta_categoria\n0       Luca   10     Minorenne\n1      Paola   20   Maggiorenne\n2  Francesco   30   Maggiorenne",
            "text/html": "<div>\n<style scoped>\n    .dataframe tbody tr th:only-of-type {\n        vertical-align: middle;\n    }\n\n    .dataframe tbody tr th {\n        vertical-align: top;\n    }\n\n    .dataframe thead th {\n        text-align: right;\n    }\n</style>\n<table border=\"1\" class=\"dataframe\">\n  <thead>\n    <tr style=\"text-align: right;\">\n      <th></th>\n      <th>Nomi</th>\n      <th>eta</th>\n      <th>eta_categoria</th>\n    </tr>\n  </thead>\n  <tbody>\n    <tr>\n      <th>0</th>\n      <td>Luca</td>\n      <td>10</td>\n      <td>Minorenne</td>\n    </tr>\n    <tr>\n      <th>1</th>\n      <td>Paola</td>\n      <td>20</td>\n      <td>Maggiorenne</td>\n    </tr>\n    <tr>\n      <th>2</th>\n      <td>Francesco</td>\n      <td>30</td>\n      <td>Maggiorenne</td>\n    </tr>\n  </tbody>\n</table>\n</div>"
          },
          "metadata": {}
        }
      ],
      "execution_count": 57
    },
    {
      "id": "715e83de-4eeb-461f-bebb-eb40784ade7a",
      "cell_type": "code",
      "source": "\ndf = df.sort_values(by = 'Nomi', key= lambda x: x.str.len())\ndf",
      "metadata": {
        "trusted": true
      },
      "outputs": [
        {
          "execution_count": 63,
          "output_type": "execute_result",
          "data": {
            "text/plain": "        Nomi  eta\n0       Luca   10\n1      Paola   20\n2  Francesco   30",
            "text/html": "<div>\n<style scoped>\n    .dataframe tbody tr th:only-of-type {\n        vertical-align: middle;\n    }\n\n    .dataframe tbody tr th {\n        vertical-align: top;\n    }\n\n    .dataframe thead th {\n        text-align: right;\n    }\n</style>\n<table border=\"1\" class=\"dataframe\">\n  <thead>\n    <tr style=\"text-align: right;\">\n      <th></th>\n      <th>Nomi</th>\n      <th>eta</th>\n    </tr>\n  </thead>\n  <tbody>\n    <tr>\n      <th>0</th>\n      <td>Luca</td>\n      <td>10</td>\n    </tr>\n    <tr>\n      <th>1</th>\n      <td>Paola</td>\n      <td>20</td>\n    </tr>\n    <tr>\n      <th>2</th>\n      <td>Francesco</td>\n      <td>30</td>\n    </tr>\n  </tbody>\n</table>\n</div>"
          },
          "metadata": {}
        }
      ],
      "execution_count": 63
    },
    {
      "id": "998256fc-c5ac-4c17-922d-f40d99a1b344",
      "cell_type": "code",
      "source": "#Crea una colonna doppi che contenga il doppio dei valori presenti in una colonna chiamata valori.\n\ndf = pd.DataFrame({'Nome': ['Luca','Marco'], 'Numero': [24,56]})\ndf['Doppi'] = df['Numero'].apply(lambda x: x *2)\ndf",
      "metadata": {
        "trusted": true
      },
      "outputs": [
        {
          "execution_count": 64,
          "output_type": "execute_result",
          "data": {
            "text/plain": "    Nome  Numero  Doppi\n0   Luca      24     48\n1  Marco      56    112",
            "text/html": "<div>\n<style scoped>\n    .dataframe tbody tr th:only-of-type {\n        vertical-align: middle;\n    }\n\n    .dataframe tbody tr th {\n        vertical-align: top;\n    }\n\n    .dataframe thead th {\n        text-align: right;\n    }\n</style>\n<table border=\"1\" class=\"dataframe\">\n  <thead>\n    <tr style=\"text-align: right;\">\n      <th></th>\n      <th>Nome</th>\n      <th>Numero</th>\n      <th>Doppi</th>\n    </tr>\n  </thead>\n  <tbody>\n    <tr>\n      <th>0</th>\n      <td>Luca</td>\n      <td>24</td>\n      <td>48</td>\n    </tr>\n    <tr>\n      <th>1</th>\n      <td>Marco</td>\n      <td>56</td>\n      <td>112</td>\n    </tr>\n  </tbody>\n</table>\n</div>"
          },
          "metadata": {}
        }
      ],
      "execution_count": 64
    },
    {
      "id": "195d107c-9a28-4a59-89a4-0f80002a957d",
      "cell_type": "code",
      "source": "#Crea una colonna full_name unendo le colonne nome e cognome, separati da uno spazio.\n\ndf = pd.DataFrame({'Nome': ['Luca','Marco'], 'Numero': [24,56], 'Cognome': ['Double', 'Lauriellame']})\ndf['full_name'] = df.apply(lambda row: f\"{row['Nome']} {row['Cognome']}\", axis=1)\ndf",
      "metadata": {
        "trusted": true
      },
      "outputs": [
        {
          "execution_count": 81,
          "output_type": "execute_result",
          "data": {
            "text/plain": "    Nome  Numero      Cognome          full_name\n0   Luca      24       Double        Luca Double\n1  Marco      56  Lauriellame  Marco Lauriellame",
            "text/html": "<div>\n<style scoped>\n    .dataframe tbody tr th:only-of-type {\n        vertical-align: middle;\n    }\n\n    .dataframe tbody tr th {\n        vertical-align: top;\n    }\n\n    .dataframe thead th {\n        text-align: right;\n    }\n</style>\n<table border=\"1\" class=\"dataframe\">\n  <thead>\n    <tr style=\"text-align: right;\">\n      <th></th>\n      <th>Nome</th>\n      <th>Numero</th>\n      <th>Cognome</th>\n      <th>full_name</th>\n    </tr>\n  </thead>\n  <tbody>\n    <tr>\n      <th>0</th>\n      <td>Luca</td>\n      <td>24</td>\n      <td>Double</td>\n      <td>Luca Double</td>\n    </tr>\n    <tr>\n      <th>1</th>\n      <td>Marco</td>\n      <td>56</td>\n      <td>Lauriellame</td>\n      <td>Marco Lauriellame</td>\n    </tr>\n  </tbody>\n</table>\n</div>"
          },
          "metadata": {}
        }
      ],
      "execution_count": 81
    },
    {
      "id": "07e5262f-c33e-4799-927c-16eca8659cec",
      "cell_type": "code",
      "source": "#Crea una colonna età_categoria che assegni \"adulto\" se età >= 18, altrimenti \"minorenne\ndf = pd.DataFrame({'Nome': ['Luca','Marco'], 'Numero': [24,56], 'Cognome': ['Double', 'Lauriellame']})\ndf['categoria'] = df['Numero'].apply(lambda x: 'adulto' if x > 24 else 'mino')\ndf",
      "metadata": {
        "trusted": true
      },
      "outputs": [
        {
          "execution_count": 69,
          "output_type": "execute_result",
          "data": {
            "text/plain": "    Nome  Numero      Cognome categoria\n0   Luca      24       Double      mino\n1  Marco      56  Lauriellame    adulto",
            "text/html": "<div>\n<style scoped>\n    .dataframe tbody tr th:only-of-type {\n        vertical-align: middle;\n    }\n\n    .dataframe tbody tr th {\n        vertical-align: top;\n    }\n\n    .dataframe thead th {\n        text-align: right;\n    }\n</style>\n<table border=\"1\" class=\"dataframe\">\n  <thead>\n    <tr style=\"text-align: right;\">\n      <th></th>\n      <th>Nome</th>\n      <th>Numero</th>\n      <th>Cognome</th>\n      <th>categoria</th>\n    </tr>\n  </thead>\n  <tbody>\n    <tr>\n      <th>0</th>\n      <td>Luca</td>\n      <td>24</td>\n      <td>Double</td>\n      <td>mino</td>\n    </tr>\n    <tr>\n      <th>1</th>\n      <td>Marco</td>\n      <td>56</td>\n      <td>Lauriellame</td>\n      <td>adulto</td>\n    </tr>\n  </tbody>\n</table>\n</div>"
          },
          "metadata": {}
        }
      ],
      "execution_count": 69
    },
    {
      "id": "91c6d6d8-11e1-4ff6-ab48-c6c9c4887b30",
      "cell_type": "code",
      "source": "#Task: Ordina un DataFrame in base alla lunghezza dei nomi.\ndf = pd.DataFrame({'Nomi':['Luca', 'Paola', 'Francesco'], 'eta':[10,20,30]})\ndf = df.sort_values(by = 'Nomi', key=lambda x: x.str.len())\ndf",
      "metadata": {
        "trusted": true
      },
      "outputs": [
        {
          "execution_count": 70,
          "output_type": "execute_result",
          "data": {
            "text/plain": "        Nomi  eta\n0       Luca   10\n1      Paola   20\n2  Francesco   30",
            "text/html": "<div>\n<style scoped>\n    .dataframe tbody tr th:only-of-type {\n        vertical-align: middle;\n    }\n\n    .dataframe tbody tr th {\n        vertical-align: top;\n    }\n\n    .dataframe thead th {\n        text-align: right;\n    }\n</style>\n<table border=\"1\" class=\"dataframe\">\n  <thead>\n    <tr style=\"text-align: right;\">\n      <th></th>\n      <th>Nomi</th>\n      <th>eta</th>\n    </tr>\n  </thead>\n  <tbody>\n    <tr>\n      <th>0</th>\n      <td>Luca</td>\n      <td>10</td>\n    </tr>\n    <tr>\n      <th>1</th>\n      <td>Paola</td>\n      <td>20</td>\n    </tr>\n    <tr>\n      <th>2</th>\n      <td>Francesco</td>\n      <td>30</td>\n    </tr>\n  </tbody>\n</table>\n</div>"
          },
          "metadata": {}
        }
      ],
      "execution_count": 70
    },
    {
      "id": "30e7c435-4c2f-4c7e-859d-0977806ef326",
      "cell_type": "code",
      "source": "#Crea una colonna parola_maiuscola che contenga la versione maiuscola di una colonna parola.\ndf = pd.DataFrame({'Nomi':['Luca', 'Paola', 'Francesco'], 'eta':[10,20,30]})\ndf['Parola'] = df['Nomi'].apply(lambda x: x.upper())\ndf\n",
      "metadata": {
        "trusted": true
      },
      "outputs": [
        {
          "execution_count": 71,
          "output_type": "execute_result",
          "data": {
            "text/plain": "        Nomi  eta     Parola\n0       Luca   10       LUCA\n1      Paola   20      PAOLA\n2  Francesco   30  FRANCESCO",
            "text/html": "<div>\n<style scoped>\n    .dataframe tbody tr th:only-of-type {\n        vertical-align: middle;\n    }\n\n    .dataframe tbody tr th {\n        vertical-align: top;\n    }\n\n    .dataframe thead th {\n        text-align: right;\n    }\n</style>\n<table border=\"1\" class=\"dataframe\">\n  <thead>\n    <tr style=\"text-align: right;\">\n      <th></th>\n      <th>Nomi</th>\n      <th>eta</th>\n      <th>Parola</th>\n    </tr>\n  </thead>\n  <tbody>\n    <tr>\n      <th>0</th>\n      <td>Luca</td>\n      <td>10</td>\n      <td>LUCA</td>\n    </tr>\n    <tr>\n      <th>1</th>\n      <td>Paola</td>\n      <td>20</td>\n      <td>PAOLA</td>\n    </tr>\n    <tr>\n      <th>2</th>\n      <td>Francesco</td>\n      <td>30</td>\n      <td>FRANCESCO</td>\n    </tr>\n  </tbody>\n</table>\n</div>"
          },
          "metadata": {}
        }
      ],
      "execution_count": 71
    },
    {
      "id": "b9c1fa3a-50d8-484a-b7dd-03ed989f0bfc",
      "cell_type": "code",
      "source": "#Dato un DataFrame con una colonna prezzo, crea una colonna iva che sia pari al 22% del prezzo.\ndf = pd.DataFrame({'Nomi':['Luca', 'Paola', 'Francesco'], 'prezzo':[10,20,30]})\ndf['Iva'] = df['prezzo'].apply(lambda x: (x * 22)/100)\ndf",
      "metadata": {
        "trusted": true
      },
      "outputs": [
        {
          "execution_count": 73,
          "output_type": "execute_result",
          "data": {
            "text/plain": "        Nomi  prezzo  Iva\n0       Luca      10  2.2\n1      Paola      20  4.4\n2  Francesco      30  6.6",
            "text/html": "<div>\n<style scoped>\n    .dataframe tbody tr th:only-of-type {\n        vertical-align: middle;\n    }\n\n    .dataframe tbody tr th {\n        vertical-align: top;\n    }\n\n    .dataframe thead th {\n        text-align: right;\n    }\n</style>\n<table border=\"1\" class=\"dataframe\">\n  <thead>\n    <tr style=\"text-align: right;\">\n      <th></th>\n      <th>Nomi</th>\n      <th>prezzo</th>\n      <th>Iva</th>\n    </tr>\n  </thead>\n  <tbody>\n    <tr>\n      <th>0</th>\n      <td>Luca</td>\n      <td>10</td>\n      <td>2.2</td>\n    </tr>\n    <tr>\n      <th>1</th>\n      <td>Paola</td>\n      <td>20</td>\n      <td>4.4</td>\n    </tr>\n    <tr>\n      <th>2</th>\n      <td>Francesco</td>\n      <td>30</td>\n      <td>6.6</td>\n    </tr>\n  </tbody>\n</table>\n</div>"
          },
          "metadata": {}
        }
      ],
      "execution_count": 73
    },
    {
      "id": "de971d5b-68a5-4eb7-9517-16f95c42d096",
      "cell_type": "code",
      "source": "#Applica una lambda riga per riga per restituire una stringa \"OK\" se valore > soglia, altrimenti \"NO\" (usa axis=1).\n\ndf = pd.DataFrame({\n    'valore': [10, 25, 18],\n    'soglia': [15, 20, 18]\n})\n\ndf['prova'] = df.apply(lambda row: 'OK' if row['valore'] > row['soglia'] else 'NO', axis=1)\ndf",
      "metadata": {
        "trusted": true
      },
      "outputs": [
        {
          "execution_count": 78,
          "output_type": "execute_result",
          "data": {
            "text/plain": "   valore  soglia prova\n0      10      15    NO\n1      25      20    OK\n2      18      18    NO",
            "text/html": "<div>\n<style scoped>\n    .dataframe tbody tr th:only-of-type {\n        vertical-align: middle;\n    }\n\n    .dataframe tbody tr th {\n        vertical-align: top;\n    }\n\n    .dataframe thead th {\n        text-align: right;\n    }\n</style>\n<table border=\"1\" class=\"dataframe\">\n  <thead>\n    <tr style=\"text-align: right;\">\n      <th></th>\n      <th>valore</th>\n      <th>soglia</th>\n      <th>prova</th>\n    </tr>\n  </thead>\n  <tbody>\n    <tr>\n      <th>0</th>\n      <td>10</td>\n      <td>15</td>\n      <td>NO</td>\n    </tr>\n    <tr>\n      <th>1</th>\n      <td>25</td>\n      <td>20</td>\n      <td>OK</td>\n    </tr>\n    <tr>\n      <th>2</th>\n      <td>18</td>\n      <td>18</td>\n      <td>NO</td>\n    </tr>\n  </tbody>\n</table>\n</div>"
          },
          "metadata": {}
        }
      ],
      "execution_count": 78
    },
    {
      "id": "202e46d6-f3fb-4c81-bd36-815026ebed0a",
      "cell_type": "code",
      "source": "",
      "metadata": {
        "trusted": true
      },
      "outputs": [],
      "execution_count": null
    }
  ]
}