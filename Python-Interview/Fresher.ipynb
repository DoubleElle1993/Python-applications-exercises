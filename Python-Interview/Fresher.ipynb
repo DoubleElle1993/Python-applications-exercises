{
  "metadata": {
    "kernelspec": {
      "name": "python",
      "display_name": "Python (Pyodide)",
      "language": "python"
    },
    "language_info": {
      "codemirror_mode": {
        "name": "python",
        "version": 3
      },
      "file_extension": ".py",
      "mimetype": "text/x-python",
      "name": "python",
      "nbconvert_exporter": "python",
      "pygments_lexer": "ipython3",
      "version": "3.8"
    }
  },
  "nbformat_minor": 5,
  "nbformat": 4,
  "cells": [
    {
      "id": "24ac3900-f67d-4edd-aa32-beca45046f8b",
      "cell_type": "code",
      "source": "# Write a Python Code to Check if a Number is Odd or Even.\n\ndef odd_or_even(num):\n    if num % 2 == 0:\n        return f\"{num} is an even number\"\n    else:\n        return f\"{num} is an odd number\"\n\nodd_or_even(25)",
      "metadata": {
        "trusted": true
      },
      "outputs": [
        {
          "execution_count": 26,
          "output_type": "execute_result",
          "data": {
            "text/plain": "'25 is an odd number'"
          },
          "metadata": {}
        }
      ],
      "execution_count": 26
    },
    {
      "id": "fc378033-af9a-4d64-8a75-cd24201b1f71",
      "cell_type": "code",
      "source": "# Write a Python code to find the maximum of two numbers.\n\ndef maximum_number(n1, n2):\n    if n1 > n2:\n        return f\"{n1} is the maximum number\"\n    elif n1 < n2:\n        return f\"{n2} is the maximum number\"\n    else:\n        return f\"{n1} and {n2} are equal\"\n\nmaximum_number(5,5)",
      "metadata": {
        "trusted": true
      },
      "outputs": [
        {
          "execution_count": 5,
          "output_type": "execute_result",
          "data": {
            "text/plain": "'5 and 5 are equal'"
          },
          "metadata": {}
        }
      ],
      "execution_count": 5
    },
    {
      "id": "426403c1-38b4-4226-919b-4ebf077be8b4",
      "cell_type": "code",
      "source": "# Write a Python code to check prime numbersn \n\ndef prime_num(n):\n    if n <= 1:\n        return False\n    for i in range(2, int(n**0.5) + 1):\n        if n % i == 0:\n            return False\n        else:\n            return True\n\nfor i in range(1,15):\n    if prime_num(i):\n        print(i)",
      "metadata": {
        "trusted": true
      },
      "outputs": [
        {
          "name": "stdout",
          "output_type": "stream",
          "text": "5\n7\n9\n11\n13\n"
        }
      ],
      "execution_count": 7
    },
    {
      "id": "51c1acd4-f594-4fbf-b192-155cebb4ae53",
      "cell_type": "code",
      "source": "# Write a Python code to calculate the square root of a given number.\n\ndef square_root(num):\n    sq_r = num ** 0.5\n    return sq_r\n\nsquare_root(81)",
      "metadata": {
        "trusted": true
      },
      "outputs": [
        {
          "execution_count": 16,
          "output_type": "execute_result",
          "data": {
            "text/plain": "9.0"
          },
          "metadata": {}
        }
      ],
      "execution_count": 16
    },
    {
      "id": "97489c19-cd85-4be2-92ef-a0c300e1aa2b",
      "cell_type": "code",
      "source": "# Write a Python code to calculate the area of a triangle.\n\ndef area(base, height):\n    return 0.5 * base * height\n\ndef area_tri(l1, l2, l3):\n    s = 0.5 * (l1 + l2 + l3)\n    area = (s * (s-l1) * (s-l2) * (s-l3)) ** 0.5\n    return area\n\narea_tri(5, 6, 7)",
      "metadata": {
        "trusted": true
      },
      "outputs": [
        {
          "execution_count": 17,
          "output_type": "execute_result",
          "data": {
            "text/plain": "14.696938456699069"
          },
          "metadata": {}
        }
      ],
      "execution_count": 17
    },
    {
      "id": "09f85ae4-01fb-4981-a86e-b66b82da1418",
      "cell_type": "code",
      "source": "# Write a Python code to check the armstrong number.\n\ndef armstrong(num):\n    l = len(str(num))\n    total = sum(int(d) ** l for d in str(num))\n\n    if total == num:\n        print(f\"{num} is an Armstrong number\")\n    else:\n        print(f\"{num} is NOT an Armstrong number\")\n\narmstrong(287)",
      "metadata": {
        "trusted": true
      },
      "outputs": [
        {
          "name": "stdout",
          "output_type": "stream",
          "text": "287 is NOT an Armstrong number\n"
        }
      ],
      "execution_count": 25
    },
    {
      "id": "af21f91e-7744-4886-8040-ad6ae55ae9e5",
      "cell_type": "code",
      "source": "# Write a Python code to display a multiplication table using for loop.\n\ndef mult_table(num):\n    for i in range(1,11):\n        print(f\"{num} * {i} = {num * i}\")\n\nmult_table(7)",
      "metadata": {
        "trusted": true
      },
      "outputs": [
        {
          "name": "stdout",
          "output_type": "stream",
          "text": "7 * 1 = 7\n7 * 2 = 14\n7 * 3 = 21\n7 * 4 = 28\n7 * 5 = 35\n7 * 6 = 42\n7 * 7 = 49\n7 * 8 = 56\n7 * 9 = 63\n7 * 10 = 70\n"
        }
      ],
      "execution_count": 29
    },
    {
      "id": "1e08ce83-9921-41f3-8e08-3cd8a38510a3",
      "cell_type": "code",
      "source": "",
      "metadata": {
        "trusted": true
      },
      "outputs": [],
      "execution_count": null
    }
  ]
}