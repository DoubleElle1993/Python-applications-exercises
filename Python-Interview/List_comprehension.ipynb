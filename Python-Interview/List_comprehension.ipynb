{
  "metadata": {
    "kernelspec": {
      "name": "xpython",
      "display_name": "Python 3.13 (XPython)",
      "language": "python"
    },
    "language_info": {
      "file_extension": ".py",
      "mimetype": "text/x-python",
      "name": "python",
      "version": "3.13.1"
    }
  },
  "nbformat_minor": 5,
  "nbformat": 4,
  "cells": [
    {
      "id": "46a3a82b-2b0c-44fc-a24d-88bc960680df",
      "cell_type": "code",
      "source": "def compare_structures():\n    list = [1,2,3]\n    tuple = (4,5,6)\n\n    list.append(16)\n    print('Lista:', list)\n\n    try:\n        tuple.append(18)\n        print('Tupla:', tuple)\n    except AttributeError as e:\n        print('Errore su tupla:', e)\n\ncompare_structures()",
      "metadata": {
        "trusted": true
      },
      "outputs": [
        {
          "name": "stdout",
          "output_type": "stream",
          "text": "La mia lista è: [1, 2, 3, 16]\nLerrore e: 'tuple' object has no attribute 'append'\n"
        }
      ],
      "execution_count": 1
    },
    {
      "id": "b6bdff08-a466-4616-853e-db3a3cc5d3c8",
      "cell_type": "code",
      "source": "def create_sequence(n):\n\n    sequence = list(range(1, n+1))\n    return sequence, tuple(sequence)\n\ncreate_sequence(9)",
      "metadata": {
        "trusted": true
      },
      "outputs": [
        {
          "execution_count": 2,
          "output_type": "execute_result",
          "data": {
            "text/plain": "([1, 2, 3, 4, 5, 6, 7, 8, 9], (1, 2, 3, 4, 5, 6, 7, 8, 9))"
          },
          "metadata": {}
        }
      ],
      "execution_count": 2
    },
    {
      "id": "0b519e2e-4dfe-46c2-9a10-d2b897e32f29",
      "cell_type": "code",
      "source": "def list_to_tuple():\n\n    my_list = ['Milano', 20133, 'MI']\n    tupla = tuple(my_list)\n    return tupla \n\nlist_to_tuple()",
      "metadata": {
        "trusted": true
      },
      "outputs": [
        {
          "execution_count": 4,
          "output_type": "execute_result",
          "data": {
            "text/plain": "('Milano', 20133, 'MI')"
          },
          "metadata": {}
        }
      ],
      "execution_count": 4
    },
    {
      "id": "afe84825-5ac2-4321-a3ef-0471e6d4668d",
      "cell_type": "code",
      "source": "def is_in_tuple(tupla, element):\n\n    if element in tupla:\n        print(element)\n    else:\n        print('Non c è')\n\ntpl = (34, 'a', 145)\nis_in_tuple(tpl,10) ",
      "metadata": {
        "trusted": true
      },
      "outputs": [
        {
          "name": "stdout",
          "output_type": "stream",
          "text": "Non c è\n"
        }
      ],
      "execution_count": 5
    },
    {
      "id": "e63d1090-4cdc-4d9a-b370-33746dd55d1b",
      "cell_type": "code",
      "source": "def create(n):\n\n    a = (1,2,4)\n    l = list(range(1, n+1))\n    return a, l\n\ncreate(18)",
      "metadata": {
        "trusted": true
      },
      "outputs": [
        {
          "execution_count": 7,
          "output_type": "execute_result",
          "data": {
            "text/plain": "((1, 2, 4), [1, 2, 3, 4, 5, 6, 7, 8, 9, 10, 11, 12, 13, 14, 15, 16, 17, 18])"
          },
          "metadata": {}
        }
      ],
      "execution_count": 7
    },
    {
      "id": "4be86960-ba7c-43ed-90b3-eff4cf6ab0f9",
      "cell_type": "code",
      "source": "def compare(lst, tpl):\n\n    print(len(lst))\n    print(len(tpl))\n    if len(lst) > len(tpl):\n        print(lst)\n    elif len(lst) < len(tpl):\n        print(tpl)\n    else:\n        print('stessa lunghezza')\n\nlist = [1, 3, 4, 5]\ntupl = (1,2)\n\ncompare(list, tupl)\n",
      "metadata": {
        "trusted": true
      },
      "outputs": [
        {
          "name": "stdout",
          "output_type": "stream",
          "text": "4\n2\n[1, 3, 4, 5]\n"
        }
      ],
      "execution_count": 12
    },
    {
      "id": "a19f7910-dade-4e0e-8efc-ae6ade1e2a8d",
      "cell_type": "code",
      "source": "#Task: Crea una lista con i quadrati dei numeri da 1 a 10.\n\na = [x ** 2 for x in range(1,11)]",
      "metadata": {
        "trusted": true
      },
      "outputs": [
        {
          "execution_count": 15,
          "output_type": "execute_result",
          "data": {
            "text/plain": "[1, 4, 9, 16, 25, 36, 49, 64, 81, 100]"
          },
          "metadata": {}
        }
      ],
      "execution_count": 15
    },
    {
      "id": "8a763757-b486-4363-a03a-8057c6f2002b",
      "cell_type": "code",
      "source": "#Task: Estrai solo i numeri pari da una lista.\na = [x for x in range(1,10) if x % 2 == 0]",
      "metadata": {
        "trusted": true
      },
      "outputs": [
        {
          "execution_count": 16,
          "output_type": "execute_result",
          "data": {
            "text/plain": "[2, 4, 6, 8]"
          },
          "metadata": {}
        }
      ],
      "execution_count": 16
    },
    {
      "id": "6e8bd959-89ff-45c4-92dc-b578b84cdd9f",
      "cell_type": "code",
      "source": "#Task: Dato un elenco di parole, restituiscile tutte in maiuscolo\n\nparole = ['B', 'C']\na = [x.lower() for x in parole]",
      "metadata": {
        "trusted": true
      },
      "outputs": [
        {
          "execution_count": 17,
          "output_type": "execute_result",
          "data": {
            "text/plain": "['b', 'c']"
          },
          "metadata": {}
        }
      ],
      "execution_count": 17
    },
    {
      "id": "f694eaf6-bace-40e4-a9a8-1471ecfb4366",
      "cell_type": "code",
      "source": "#Task: Crea una lista di tuple (n, n^2) per n da 1 a 5\n\na = [(x, x**2) for x in range(1,6)]",
      "metadata": {
        "trusted": true
      },
      "outputs": [
        {
          "execution_count": 19,
          "output_type": "execute_result",
          "data": {
            "text/plain": "[(1, 1), (2, 4), (3, 9), (4, 16), (5, 25)]"
          },
          "metadata": {}
        }
      ],
      "execution_count": 19
    },
    {
      "id": "79171636-d5e8-4db1-bd10-c3f05fd33908",
      "cell_type": "code",
      "source": "#Task: Trova tutti i numeri da 1 a 100 divisibili sia per 3 che per 5.\n\na = [x for x in range(1,101) if x % 3 == 0 and x % 5 == 0]",
      "metadata": {
        "trusted": true
      },
      "outputs": [
        {
          "execution_count": 27,
          "output_type": "execute_result",
          "data": {
            "text/plain": "[15, 30, 45, 60, 75, 90]"
          },
          "metadata": {}
        }
      ],
      "execution_count": 27
    },
    {
      "id": "4d386656-86b1-4ef6-a28e-bc8115bce143",
      "cell_type": "code",
      "source": "#Task: Data una lista di parole, restituisci una lista delle loro lunghezze.\n\nlista = ['a', 'pippi', 'ancora']\na = [len(x) for x in lista]",
      "metadata": {
        "trusted": true
      },
      "outputs": [
        {
          "execution_count": 29,
          "output_type": "execute_result",
          "data": {
            "text/plain": "[1, 5, 6]"
          },
          "metadata": {}
        }
      ],
      "execution_count": 29
    },
    {
      "id": "a8d55d49-b2ff-4e64-9038-29656bea5b6e",
      "cell_type": "code",
      "source": "#Task: Dato un elenco con numeri e stringhe, estrai solo i numeri.\n\nlista = ['a', 'prova', 3, 4]\na = [x for x in lista if isinstance(x, int)]",
      "metadata": {
        "trusted": true
      },
      "outputs": [
        {
          "execution_count": 31,
          "output_type": "execute_result",
          "data": {
            "text/plain": "[3, 4]"
          },
          "metadata": {}
        }
      ],
      "execution_count": 31
    }
  ]
}